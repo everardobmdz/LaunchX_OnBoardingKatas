{
 "cells": [
  {
   "cell_type": "code",
   "execution_count": 3,
   "metadata": {},
   "outputs": [],
   "source": [
    "def informeTanques(tanq1, tanq2, tanq3):\n",
    "    return f\"\"\"-Informe-\n",
    "    Tanque1: {tanq1}\n",
    "    Tanque2: {tanq2}\n",
    "    Tanque3: {tanq3}\n",
    "    Promedio: {(tanq1+tanq2+tanq3)/3} \n",
    "    \"\"\""
   ]
  },
  {
   "cell_type": "code",
   "execution_count": 4,
   "metadata": {},
   "outputs": [
    {
     "name": "stdout",
     "output_type": "stream",
     "text": [
      "-Informe-\n",
      "    Tanque1: 3\n",
      "    Tanque2: 4\n",
      "    Tanque3: 5\n",
      "    Promedio: 4.0 \n",
      "    \n"
     ]
    }
   ],
   "source": [
    "print(informeTanques(3,4,5))"
   ]
  },
  {
   "cell_type": "code",
   "execution_count": 6,
   "metadata": {},
   "outputs": [],
   "source": [
    "def promedioTanq(tanq1, tanq2, tanq3):\n",
    "    return (tanq1+tanq2+tanq3)"
   ]
  },
  {
   "cell_type": "code",
   "execution_count": null,
   "metadata": {},
   "outputs": [],
   "source": [
    "def informeTanques(tanq1, tanq2, tanq3):\n",
    "    return f\"\"\"-Informe-\n",
    "    Tanque1: {tanq1}\n",
    "    Tanque2: {tanq2}\n",
    "    Tanque3: {tanq3}\n",
    "    Promedio: {promedioTanq(tanq1,tanq2,tanq3)} \n",
    "    \"\"\""
   ]
  },
  {
   "cell_type": "code",
   "execution_count": null,
   "metadata": {},
   "outputs": [],
   "source": [
    "def informe(horaLanz, tiempoVuelo,destino, tanqExterno, tanqInterno):\n",
    "    return f\"\"\"-Informe-\n",
    "    Destino: {destino}\n",
    "    Tiempo de vuelo: {horaLanz+tiempoVuelo}\n",
    "    Promedio combustible: {(tanqExterno + tanqInterno)/2}\n",
    "    \"\"\""
   ]
  },
  {
   "cell_type": "code",
   "execution_count": null,
   "metadata": {},
   "outputs": [],
   "source": [
    "def informeMejorado(destination, *minutes, **fuel_reservoirs):\n",
    "    return f\"\"\"-Informe-\n",
    "    Destino: {destination}\n",
    "    Tiempo total de viaje: {sum(minutes)}\n",
    "    Promedio de combustible: {(sum(fuel_reservoirs.values()))/len(fuel_reservoirs)}\n",
    "    \"\"\"\n",
    "        "
   ]
  },
  {
   "cell_type": "code",
   "execution_count": 11,
   "metadata": {},
   "outputs": [],
   "source": [
    "def informeDefinitivo(destination, *minutes, **fuel_reservoirs):\n",
    "    texto = f\"\"\"-Informe-\n",
    "    Destino: {destination}\n",
    "    Tiempo total de viaje: {sum(minutes)}\n",
    "    Promedio combustible: {(sum(fuel_reservoirs.values()))/len(fuel_reservoirs)}\"\"\"\n",
    "    for tanq, value in fuel_reservoirs.items():\n",
    "        texto += f\"\"\"\n",
    "        {tanq}: {value}\"\"\"\n",
    "    return texto"
   ]
  },
  {
   "cell_type": "code",
   "execution_count": 12,
   "metadata": {},
   "outputs": [
    {
     "name": "stdout",
     "output_type": "stream",
     "text": [
      "-Informe-\n",
      "    Destino: Moon\n",
      "    Tiempo total de viaje: 74\n",
      "    Promedio combustible: 250000.0\n",
      "        main: 300000\n",
      "        external: 200000\n"
     ]
    }
   ],
   "source": [
    "print(informeDefinitivo('Moon',8,11,55,main=300000,external=200000))"
   ]
  }
 ],
 "metadata": {
  "interpreter": {
   "hash": "48220cc7eca233757c47c016205bf12bd55261280c552145fb775af00094acbb"
  },
  "kernelspec": {
   "display_name": "Python 3.10.2 64-bit",
   "language": "python",
   "name": "python3"
  },
  "language_info": {
   "codemirror_mode": {
    "name": "ipython",
    "version": 3
   },
   "file_extension": ".py",
   "mimetype": "text/x-python",
   "name": "python",
   "nbconvert_exporter": "python",
   "pygments_lexer": "ipython3",
   "version": "3.10.2"
  },
  "orig_nbformat": 4
 },
 "nbformat": 4,
 "nbformat_minor": 2
}
