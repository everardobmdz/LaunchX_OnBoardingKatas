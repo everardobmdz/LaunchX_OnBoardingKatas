{
 "cells": [
  {
   "cell_type": "code",
   "execution_count": 2,
   "metadata": {},
   "outputs": [],
   "source": [
    "text = \"\"\"Interesting facts about the Moon. The Moon is Earth's only satellite. There are several interesting facts about the Moon and how it affects life here on Earth. \n",
    "On average, the Moon moves 4cm away from the Earth every year. This yearly drift is not significant enough to cause immediate effects on Earth. The highest daylight temperature of the Moon is 127 C.\"\"\""
   ]
  },
  {
   "cell_type": "code",
   "execution_count": 6,
   "metadata": {},
   "outputs": [],
   "source": [
    "textParts = text.split('. ')"
   ]
  },
  {
   "cell_type": "code",
   "execution_count": 9,
   "metadata": {},
   "outputs": [
    {
     "name": "stdout",
     "output_type": "stream",
     "text": [
      "\n",
      "On average, the Moon moves 4cm away from the Earth every year\n",
      "The highest daylight temperature of the Moon is 127 Celcius.\n"
     ]
    }
   ],
   "source": [
    "palabrasClave = ['average', 'temperature','distance']\n",
    "for part in textParts:\n",
    "    for palabra in palabrasClave:\n",
    "        if palabra in part:\n",
    "            print(part.replace('C','Celcius'))"
   ]
  },
  {
   "cell_type": "code",
   "execution_count": 22,
   "metadata": {},
   "outputs": [],
   "source": [
    "name = \"Moon\"\n",
    "gravity = 0.00162 #km/s\n",
    "planet = 'Earth'"
   ]
  },
  {
   "cell_type": "code",
   "execution_count": 24,
   "metadata": {},
   "outputs": [],
   "source": [
    "titulo= f'Gravity Facts about {name}'"
   ]
  },
  {
   "cell_type": "code",
   "execution_count": 28,
   "metadata": {},
   "outputs": [],
   "source": [
    "cadena = f\"\"\"\\n--------------\n",
    "Planet Name: {planet}\n",
    "Gravity on {name}: {gravity*1000}\n",
    "\"\"\""
   ]
  },
  {
   "cell_type": "code",
   "execution_count": 29,
   "metadata": {},
   "outputs": [
    {
     "name": "stdout",
     "output_type": "stream",
     "text": [
      "Gravity Facts about Moon\n",
      "--------------\n",
      "Planet Name: Earth\n",
      "Gravity on Moon: 0.00162\n",
      "\n"
     ]
    }
   ],
   "source": [
    "fact = titulo + cadena\n",
    "print(fact)"
   ]
  },
  {
   "cell_type": "code",
   "execution_count": 37,
   "metadata": {},
   "outputs": [
    {
     "name": "stdout",
     "output_type": "stream",
     "text": [
      "Gravity Facts about Moon\n",
      "--------------\n",
      "Planet Name: Earth\n",
      "Gravity on Moon: 0.00162\n",
      "\n"
     ]
    }
   ],
   "source": [
    "planet = 'Marte'\n",
    "gravity = 0.00143\n",
    "name = 'Ganimedes'\n",
    "print(fact)"
   ]
  },
  {
   "cell_type": "code",
   "execution_count": 44,
   "metadata": {},
   "outputs": [
    {
     "name": "stdout",
     "output_type": "stream",
     "text": [
      "Gravity Facts about Ganimedes\n",
      "---------------------\n",
      "Planet Name: Marte\n",
      "Gravity on Ganimedes: 1.4300000000000002\n",
      "\n"
     ]
    }
   ],
   "source": [
    "cadena = \"\"\"Gravity Facts about {0}\n",
    "---------------------\n",
    "Planet Name: {1}\n",
    "Gravity on {0}: {2}\n",
    "\"\"\".format(name,planet,gravity*1000)\n",
    "print(cadena)"
   ]
  }
 ],
 "metadata": {
  "interpreter": {
   "hash": "48220cc7eca233757c47c016205bf12bd55261280c552145fb775af00094acbb"
  },
  "kernelspec": {
   "display_name": "Python 3.10.2 64-bit",
   "language": "python",
   "name": "python3"
  },
  "language_info": {
   "codemirror_mode": {
    "name": "ipython",
    "version": 3
   },
   "file_extension": ".py",
   "mimetype": "text/x-python",
   "name": "python",
   "nbconvert_exporter": "python",
   "pygments_lexer": "ipython3",
   "version": "3.10.2"
  },
  "orig_nbformat": 4
 },
 "nbformat": 4,
 "nbformat_minor": 2
}
