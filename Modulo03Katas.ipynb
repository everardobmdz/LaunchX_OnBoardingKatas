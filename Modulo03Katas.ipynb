{
 "cells": [
  {
   "cell_type": "markdown",
   "metadata": {},
   "source": [
    "## Ejercicio 1"
   ]
  },
  {
   "cell_type": "code",
   "execution_count": 1,
   "metadata": {},
   "outputs": [
    {
     "name": "stdout",
     "output_type": "stream",
     "text": [
      "Un asteroide se acerca a alta velocidad!!!!!\n"
     ]
    }
   ],
   "source": [
    "velocidadAsteroide = 49\n",
    "\n",
    "if velocidadAsteroide > 25:\n",
    "    print(\"Un asteroide se acerca a alta velocidad!!!!!\")\n",
    "else:\n",
    "    print(\"Este asteroide no es peligro para la humanidad :)\")"
   ]
  },
  {
   "cell_type": "markdown",
   "metadata": {},
   "source": [
    "## Ejercicio 2"
   ]
  },
  {
   "cell_type": "code",
   "execution_count": null,
   "metadata": {},
   "outputs": [],
   "source": [
    "velocidadAsteroide = 19\n",
    "if velocidadAsteroide >= 20:\n",
    "    print(\"Sal a ver el cielo!! se verá una estrella fugaz\")\n",
    "elif velocidadAsteroide >= 15:\n",
    "    print(\"Por poco vemos una estrella fugaz\")\n",
    "else:\n",
    "    print(\"No hay acercamientos para poder una estrella fugaz\")"
   ]
  },
  {
   "cell_type": "markdown",
   "metadata": {},
   "source": [
    "## Ejercicio 3"
   ]
  },
  {
   "cell_type": "code",
   "execution_count": null,
   "metadata": {},
   "outputs": [],
   "source": [
    "velocidadAsteroide = 25\n",
    "tamAsteroide = 20\n",
    "\n",
    "if tamAsteroide > 25 and velocidadAsteroide > 25:\n",
    "    print(\"Alertaaa, un asteroide impactará la tierra!!!!\")\n",
    "elif velocidadAsteroide >= 20:\n",
    "    print(\"Sal a ver un destello de un asteroide en el cielo!!!\")\n",
    "elif tamAsteroide < 25:\n",
    "    print(\"Todo tranquilo\")\n",
    "else:\n",
    "    print(\"Todo tranquilo\")"
   ]
  }
 ],
 "metadata": {
  "interpreter": {
   "hash": "48220cc7eca233757c47c016205bf12bd55261280c552145fb775af00094acbb"
  },
  "kernelspec": {
   "display_name": "Python 3.10.2 64-bit",
   "language": "python",
   "name": "python3"
  },
  "language_info": {
   "codemirror_mode": {
    "name": "ipython",
    "version": 3
   },
   "file_extension": ".py",
   "mimetype": "text/x-python",
   "name": "python",
   "nbconvert_exporter": "python",
   "pygments_lexer": "ipython3",
   "version": "3.10.2"
  },
  "orig_nbformat": 4
 },
 "nbformat": 4,
 "nbformat_minor": 2
}
